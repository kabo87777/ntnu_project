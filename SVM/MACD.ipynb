{
 "cells": [
  {
   "cell_type": "code",
   "execution_count": 8,
   "metadata": {},
   "outputs": [],
   "source": [
    "from sklearn import svm\n",
    "import pandas as pd\n",
    "import numpy as np\n",
    "import matplotlib.pyplot as plt\n",
    "from sklearn import datasets\n",
    "from sklearn.model_selection import train_test_split"
   ]
  },
  {
   "cell_type": "code",
   "execution_count": 9,
   "metadata": {},
   "outputs": [
    {
     "name": "stderr",
     "output_type": "stream",
     "text": [
      "/Library/Frameworks/Python.framework/Versions/3.9/lib/python3.9/site-packages/pandas/core/frame.py:4906: SettingWithCopyWarning: \n",
      "A value is trying to be set on a copy of a slice from a DataFrame\n",
      "\n",
      "See the caveats in the documentation: https://pandas.pydata.org/pandas-docs/stable/user_guide/indexing.html#returning-a-view-versus-a-copy\n",
      "  return super().drop(\n"
     ]
    }
   ],
   "source": [
    "stock_df = pd.read_csv('2330.csv')\n",
    "test_data = stock_df[-210:-180]\n",
    "test_ans = test_data.predict\n",
    "test_ans = test_ans.to_numpy()\n",
    "test_data.drop('close', inplace=True, axis=1)\n",
    "test_data.drop('predict', inplace=True, axis=1)\n",
    "test_data.drop('Date', inplace=True, axis=1)\n",
    "test_data = test_data[['Close','MACD','MACDsignal','MACDhist']]\n",
    "test_data = test_data.to_numpy()\n",
    "stock_df = stock_df[-610:-210]\n",
    "stock_df.drop('close', inplace=True, axis=1)\n",
    "target=stock_df.predict\n",
    "target=target.to_numpy()\n",
    "stock_df.drop('predict', inplace=True, axis=1)\n",
    "stock_df.drop('Date', inplace=True, axis=1)\n",
    "stock_df = stock_df[['Close','MACD','MACDsignal','MACDhist']]\n",
    "features=stock_df.to_numpy()"
   ]
  },
  {
   "cell_type": "code",
   "execution_count": 10,
   "metadata": {},
   "outputs": [
    {
     "data": {
      "text/plain": [
       "array([[ 2.54500000e+02,  2.37318663e-01, -7.40521791e-01,\n",
       "         9.77840455e-01],\n",
       "       [ 2.54000000e+02,  4.19498400e-01, -5.08517753e-01,\n",
       "         9.28016153e-01],\n",
       "       [ 2.54000000e+02,  5.11167541e-01, -3.04580694e-01,\n",
       "         8.15748236e-01],\n",
       "       ...,\n",
       "       [ 6.19000000e+02,  4.16831061e+00,  1.72878404e+00,\n",
       "         2.43952657e+00],\n",
       "       [ 6.10000000e+02,  3.47567361e+00,  2.07816195e+00,\n",
       "         1.39751166e+00],\n",
       "       [ 6.03000000e+02,  1.98119307e+00,  2.05876818e+00,\n",
       "        -7.75751089e-02]])"
      ]
     },
     "execution_count": 10,
     "metadata": {},
     "output_type": "execute_result"
    }
   ],
   "source": [
    "features"
   ]
  },
  {
   "cell_type": "code",
   "execution_count": 15,
   "metadata": {},
   "outputs": [
    {
     "name": "stderr",
     "output_type": "stream",
     "text": [
      "/Library/Frameworks/Python.framework/Versions/3.9/lib/python3.9/site-packages/sklearn/svm/_base.py:1206: ConvergenceWarning: Liblinear failed to converge, increase the number of iterations.\n",
      "  warnings.warn(\n"
     ]
    },
    {
     "data": {
      "text/plain": [
       "LinearSVC()"
      ]
     },
     "execution_count": 15,
     "metadata": {},
     "output_type": "execute_result"
    }
   ],
   "source": [
    "#clf=svm.LinearSVC()\n",
    "#clf.fit(features,target)"
   ]
  },
  {
   "cell_type": "code",
   "execution_count": 12,
   "metadata": {},
   "outputs": [
    {
     "data": {
      "text/plain": [
       "SVC(gamma='auto')"
      ]
     },
     "execution_count": 12,
     "metadata": {},
     "output_type": "execute_result"
    }
   ],
   "source": [
    "clf=svm.SVC(kernel='rbf',gamma='auto')\n",
    "clf.fit(features,target)"
   ]
  },
  {
   "cell_type": "markdown",
   "metadata": {},
   "source": [
    "## Step4. 預測"
   ]
  },
  {
   "cell_type": "code",
   "execution_count": 16,
   "metadata": {},
   "outputs": [
    {
     "data": {
      "text/plain": [
       "array([0, 0, 0, 0, 0, 0, 0, 0, 0, 0, 0, 0, 0, 0, 0, 0, 0, 0, 0, 0, 0, 0,\n",
       "       0, 0, 0, 0, 0, 0, 0, 0])"
      ]
     },
     "execution_count": 16,
     "metadata": {},
     "output_type": "execute_result"
    }
   ],
   "source": [
    "clf.predict(test_data)"
   ]
  },
  {
   "cell_type": "markdown",
   "metadata": {},
   "source": [
    "## Step5. 準確度分析"
   ]
  },
  {
   "cell_type": "code",
   "execution_count": 14,
   "metadata": {},
   "outputs": [
    {
     "name": "stdout",
     "output_type": "stream",
     "text": [
      "0.965\n",
      "0.6\n"
     ]
    }
   ],
   "source": [
    "print(clf.score(features,target))\n",
    "print(clf.score(test_data, test_ans))"
   ]
  }
 ],
 "metadata": {
  "kernelspec": {
   "display_name": "Python 3",
   "language": "python",
   "name": "python3"
  },
  "language_info": {
   "codemirror_mode": {
    "name": "ipython",
    "version": 3
   },
   "file_extension": ".py",
   "mimetype": "text/x-python",
   "name": "python",
   "nbconvert_exporter": "python",
   "pygments_lexer": "ipython3",
   "version": "3.9.6"
  }
 },
 "nbformat": 4,
 "nbformat_minor": 2
}
